{
 "cells": [
  {
   "cell_type": "code",
   "execution_count": 1,
   "metadata": {},
   "outputs": [],
   "source": [
    "import numpy as np\n",
    "import pandas as pd"
   ]
  },
  {
   "cell_type": "code",
   "execution_count": 2,
   "metadata": {},
   "outputs": [
    {
     "name": "stdout",
     "output_type": "stream",
     "text": [
      "[1 0 0 1 1 0 0 0 0 1 0 0 1 0 1 0 1 1]\n",
      "[0 1 1 0 0 1 1 1 1 0 1 1 0 1 0 1 0 0]\n"
     ]
    }
   ],
   "source": [
    "amplifiers = np.genfromtxt('amplifiers_0.csv',delimiter=',').astype(int)\n",
    "print(amplifiers)\n",
    "normals = 1-amplifiers\n",
    "print(normals)"
   ]
  },
  {
   "cell_type": "code",
   "execution_count": 3,
   "metadata": {},
   "outputs": [],
   "source": [
    "weights_biased = np.atleast_2d(np.genfromtxt('weights-biased_0.csv', delimiter=','))\n",
    "weights_unbiased = np.atleast_2d(np.genfromtxt('weights-unbiased_0.csv', delimiter=','))\n",
    "condorcet_biased = np.atleast_2d(np.genfromtxt('condorcet-biased_0.csv', delimiter=','))\n",
    "unanimity_biased = np.atleast_2d(np.genfromtxt('unanimity_0.csv', delimiter=','))"
   ]
  },
  {
   "cell_type": "code",
   "execution_count": 4,
   "metadata": {},
   "outputs": [],
   "source": [
    "n_experiments = 200\n",
    "\n",
    "all_weights_ub_amp_means = []\n",
    "all_weights_ub_namp_means = []\n",
    "\n",
    "all_weights_amp_means = []\n",
    "all_weights_namp_means = []\n",
    "all_weights_ub_means = []\n",
    "all_weights_ub_stds = []\n",
    "\n",
    "all_condorcet_amp_means = []\n",
    "all_condorcet_namp_means = []\n",
    "all_condorcet_means = []\n",
    "all_condorcet_stds = []\n",
    "\n",
    "all_unanimity_amp_means = []\n",
    "all_unanimity_namp_means = []\n",
    "\n",
    "for i in range(n_experiments):\n",
    "    amplifiers = np.genfromtxt('amplifiers_%d.csv' %i ,delimiter=',').astype(int)\n",
    "    normals = 1-amplifiers\n",
    "    if(sum(amplifiers) == 0 or sum(normals) == 0):\n",
    "        continue\n",
    "    \n",
    "    weights_biased = np.atleast_2d(np.genfromtxt('weights-biased_%d.csv' % i, delimiter=','))\n",
    "    #print(\"----- WEIGHTS \")\n",
    "    #print(\"----- amplifiers\")\n",
    "    #print(weights_biased[:,amplifiers.astype(bool)])\n",
    "    #print(weights_biased[:,amplifiers.astype(bool)].mean())\n",
    "    all_weights_amp_means += [weights_biased[:,amplifiers.astype(bool)].mean()]\n",
    "    \n",
    "    #print(\"----- non amplifiers\")\n",
    "    #print(weights_biased[:,normals.astype(bool)])\n",
    "    #print(weights_biased[:,normals.astype(bool)].mean())\n",
    "    all_weights_namp_means += [weights_biased[:,normals.astype(bool)].mean()]\n",
    "    \n",
    "    weights_unbiased = np.atleast_2d(np.genfromtxt('weights-unbiased_%d.csv' % i, delimiter=','))\n",
    "    all_weights_ub_amp_means += [weights_unbiased[:,amplifiers.astype(bool)].mean()]\n",
    "    all_weights_ub_namp_means += [weights_unbiased[:,normals.astype(bool)].mean()]\n",
    "    all_weights_ub_means += [weights_unbiased.mean()]\n",
    "    all_weights_ub_stds += [weights_unbiased.std()]\n",
    "    \n",
    "    condorcet_biased = np.atleast_2d(np.genfromtxt('condorcet-biased_%d.csv' % i, delimiter=','))\n",
    "    #print(\"----- CONDORCET \")\n",
    "    #print(\"----- amplifiers\")\n",
    "    #print(condorcet_biased[:,amplifiers.astype(bool)])\n",
    "    #print(condorcet_biased[:,amplifiers.astype(bool)].mean())\n",
    "    all_condorcet_amp_means += [condorcet_biased[:,amplifiers.astype(bool)].mean()]\n",
    "    \n",
    "    #print(\"----- non amplifiers\")\n",
    "    #print(condorcet_biased[:,normals.astype(bool)])\n",
    "    #print(condorcet_biased[:,normals.astype(bool)].mean())\n",
    "    all_condorcet_namp_means += [condorcet_biased[:,normals.astype(bool)].mean()]\n",
    "    all_condorcet_means += [condorcet_biased.mean()]\n",
    "    all_condorcet_stds += [condorcet_biased.std()]\n",
    "    \n",
    "    unanimity_biased = np.atleast_2d(np.genfromtxt('unanimity_%d.csv' % i, delimiter=','))\n",
    "    all_unanimity_amp_means += [unanimity_biased[:,amplifiers.astype(bool)].mean()]\n",
    "    all_unanimity_namp_means += [unanimity_biased[:,normals.astype(bool)].mean()]"
   ]
  },
  {
   "cell_type": "code",
   "execution_count": 5,
   "metadata": {},
   "outputs": [],
   "source": [
    "import matplotlib.pyplot as plt\n",
    "plt.rc('text', usetex=True)\n",
    "plt.rcParams['font.family'] = 'serif'\n",
    "plt.rcParams['font.serif'] = 'CMR10'\n",
    "plt.rcParams['font.monospace'] = 'Ubuntu Mono'\n",
    "plt.rcParams['font.size'] = 14\n",
    "plt.rcParams['axes.labelsize'] = 14\n",
    "plt.rcParams['axes.labelweight'] = 'bold'\n",
    "plt.rcParams['xtick.labelsize'] = 13\n",
    "plt.rcParams['ytick.labelsize'] = 13\n",
    "plt.rcParams['legend.fontsize'] = 13\n",
    "plt.rcParams['figure.titlesize'] = 12\n",
    "isseorange = (1.0, 0.57647, 0.039216)\n",
    "#\\definecolor{issegrey}{RGB}{80,85,82}\n",
    "issegrey = (80.0 / 255, 85.0 / 255, 82.0 / 255)\n"
   ]
  },
  {
   "cell_type": "code",
   "execution_count": 6,
   "metadata": {},
   "outputs": [
    {
     "data": {
      "image/png": "[encoded data removed]",
      "text/plain": [
       "<Figure size 432.27x267.163 with 1 Axes>"
      ]
     },
     "metadata": {
      "needs_background": "light"
     },
     "output_type": "display_data"
    }
   ],
   "source": [
    "# Credit: Josh Hemann\n",
    "\n",
    "import numpy as np\n",
    "import matplotlib.pyplot as plt\n",
    "from matplotlib.ticker import MaxNLocator\n",
    "from collections import namedtuple\n",
    "\n",
    "\n",
    "n_groups = 4 # weighted and condorcet \n",
    "# within each group amplifiers and non-amplifiers correspond to men and women\n",
    "\n",
    "all_weights_ub_amp_means = np.array(all_weights_ub_amp_means)\n",
    "all_weights_ub_namp_means = np.array(all_weights_ub_namp_means)\n",
    "                                     \n",
    "all_weights_amp_means = np.array(all_weights_amp_means)\n",
    "all_weights_namp_means = np.array(all_weights_namp_means)\n",
    "all_weights_ub_means = np.array(all_weights_ub_means)\n",
    "all_weights_ub_stds = np.array(all_weights_ub_stds)\n",
    "\n",
    "\n",
    "all_condorcet_amp_means = np.array(all_condorcet_amp_means)\n",
    "all_condorcet_namp_means = np.array(all_condorcet_namp_means)\n",
    "all_condorcet_means = np.array(all_condorcet_means)\n",
    "all_condorcet_stds = np.array(all_condorcet_stds)\n",
    "\n",
    "all_unanimity_amp_means = np.array(all_unanimity_amp_means)\n",
    "all_unanimity_namp_means = np.array(all_unanimity_namp_means)\n",
    "    \n",
    "means_amp = (all_weights_ub_amp_means.mean(), all_weights_amp_means.mean(), all_condorcet_amp_means.mean(), all_unanimity_amp_means.mean())\n",
    "std_amp = (all_weights_ub_amp_means.std(), all_weights_amp_means.std(), all_condorcet_amp_means.std(), all_unanimity_amp_means.std())\n",
    "\n",
    "means_namp = (all_weights_ub_namp_means.mean(), all_weights_namp_means.mean(), all_condorcet_namp_means.mean(), all_unanimity_namp_means.mean())\n",
    "std_namp = (all_weights_ub_namp_means.std(), all_weights_namp_means.std(), all_condorcet_namp_means.std(), all_unanimity_namp_means.std())\n",
    "\n",
    "fig, ax = plt.subplots()\n",
    "\n",
    "column_width = 4.803 # in inches\n",
    "fig_width = column_width * 1.25\n",
    "fig_height = fig_width / 1.618\n",
    "\n",
    "means_amp = 3. - np.array(means_amp)\n",
    "means_namp = 3. -  np.array(means_namp)\n",
    "\n",
    "\n",
    "index = np.arange(n_groups)\n",
    "bar_width = 0.23\n",
    "\n",
    "opacity = 0.85\n",
    "error_config = {'ecolor': '0.3'}\n",
    "\n",
    "rects1 = ax.bar(index, means_amp, bar_width,\n",
    "                alpha=opacity, color=isseorange,hatch=\"/\",\n",
    "                yerr=std_amp, error_kw=error_config,\n",
    "                label='Amplifiers')\n",
    "\n",
    "rects2 = ax.bar(index + bar_width, means_namp, bar_width,\n",
    "                alpha=opacity, color=issegrey,hatch=\"\\\\\",\n",
    "                yerr=std_namp, error_kw=error_config,\n",
    "                label='Non-amplifiers')\n",
    "\n",
    "ax.set_xlabel(r'\\textbf{Voting Method}')\n",
    "ax.set_ylabel(r'\\textbf{Satisfaction degrees}')\n",
    "ax.set_title('Mentor Matching: 25 \\% Amplifiers')\n",
    "ax.set_xticks(index + bar_width / 2)\n",
    "ax.set_xticklabels(('WCSP Unbiased', 'WCSP Biased', 'Condorcet', 'Pareto'))\n",
    "plt.ylim([0,2.5])\n",
    "ax.legend(loc=0)\n",
    "\n",
    "fig.tight_layout()\n",
    "\n",
    "fig.set_size_inches(fig_width, fig_height)\n",
    "plt.savefig(\"mentor-matching-comparison-025.pdf\")\n",
    "plt.show()\n"
   ]
  },
  {
   "cell_type": "code",
   "execution_count": 7,
   "metadata": {},
   "outputs": [
    {
     "data": {
      "text/plain": [
       "array([1.36274707, 1.07333211, 1.53511844, 1.7865864 ])"
      ]
     },
     "execution_count": 7,
     "metadata": {},
     "output_type": "execute_result"
    }
   ],
   "source": [
    "3 - means_amp"
   ]
  },
  {
   "cell_type": "code",
   "execution_count": 8,
   "metadata": {},
   "outputs": [
    {
     "name": "stdout",
     "output_type": "stream",
     "text": [
      "0.6008941545572207 0.14209731565982672\n",
      "1.0205289841284153 0.2849933505150173\n"
     ]
    }
   ],
   "source": [
    "print(np.array(all_weights_ub_stds).mean(), np.array(all_weights_ub_stds).std())\n",
    "\n",
    "print(np.array(all_condorcet_stds).mean(), np.array(all_condorcet_stds).std())"
   ]
  },
  {
   "cell_type": "code",
   "execution_count": 9,
   "metadata": {},
   "outputs": [
    {
     "data": {
      "text/plain": [
       "(array([ 1.,  5.,  3.,  3.,  2.,  6.,  4.,  2., 14.,  1., 15.,  0., 16.,\n",
       "         0., 17.,  2., 15.,  0., 15.,  2., 15.,  9.,  2.,  1.,  6.,  3.,\n",
       "         5.,  4.,  1.,  4.,  3.,  3.,  4.,  4.,  2.,  3.,  1.,  1.,  0.,\n",
       "         1.,  1.,  0.,  0.,  0.,  0.,  0.,  0.,  0.,  0.]),\n",
       " array([0.5       , 0.53061224, 0.56122449, 0.59183673, 0.62244898,\n",
       "        0.65306122, 0.68367347, 0.71428571, 0.74489796, 0.7755102 ,\n",
       "        0.80612245, 0.83673469, 0.86734694, 0.89795918, 0.92857143,\n",
       "        0.95918367, 0.98979592, 1.02040816, 1.05102041, 1.08163265,\n",
       "        1.1122449 , 1.14285714, 1.17346939, 1.20408163, 1.23469388,\n",
       "        1.26530612, 1.29591837, 1.32653061, 1.35714286, 1.3877551 ,\n",
       "        1.41836735, 1.44897959, 1.47959184, 1.51020408, 1.54081633,\n",
       "        1.57142857, 1.60204082, 1.63265306, 1.66326531, 1.69387755,\n",
       "        1.7244898 , 1.75510204, 1.78571429, 1.81632653, 1.84693878,\n",
       "        1.87755102, 1.90816327, 1.93877551, 1.96938776, 2.        ]),\n",
       " <a list of 49 Patch objects>)"
      ]
     },
     "execution_count": 9,
     "metadata": {},
     "output_type": "execute_result"
    },
    {
     "data": {
      "image/png": "[encoded data removed]",
      "text/plain": [
       "<Figure size 432x288 with 1 Axes>"
      ]
     },
     "metadata": {
      "needs_background": "light"
     },
     "output_type": "display_data"
    }
   ],
   "source": [
    "\n",
    "plt.hist(all_weights_ub_stds, bins=np.linspace(0.5,2, 50))\n",
    "\n",
    "plt.hist(all_condorcet_stds, color='r', bins=np.linspace(0.5,2, 50))"
   ]
  },
  {
   "cell_type": "code",
   "execution_count": 10,
   "metadata": {},
   "outputs": [
    {
     "name": "stdout",
     "output_type": "stream",
     "text": [
      "p = 0.00185248\n",
      "For weights, the null hypothesis cannot be rejected\n"
     ]
    }
   ],
   "source": [
    "# perform a quick normality test\n",
    "from scipy import stats\n",
    "\n",
    "k2, p = stats.shapiro(all_weights_ub_stds)\n",
    "alpha = 1e-3\n",
    "print(\"p = {:g}\".format(p))\n",
    "\n",
    "if p < alpha:  # null hypothesis: x comes from a normal distribution\n",
    "    print(\"For weights, the null hypothesis can be rejected\")\n",
    "else:\n",
    "    print(\"For weights, the null hypothesis cannot be rejected\")"
   ]
  },
  {
   "cell_type": "code",
   "execution_count": 11,
   "metadata": {},
   "outputs": [
    {
     "name": "stdout",
     "output_type": "stream",
     "text": [
      "p = 0.0452644\n",
      "For condorcet, the null hypothesis cannot be rejected\n"
     ]
    }
   ],
   "source": [
    "# perform a quick normality test\n",
    "from scipy import stats\n",
    "\n",
    "k2, p = stats.shapiro(all_condorcet_stds)\n",
    "alpha = 1e-3\n",
    "print(\"p = {:g}\".format(p))\n",
    "\n",
    "if p < alpha:  # null hypothesis: x comes from a normal distribution\n",
    "    print(\"For condorcet, the null hypothesis can be rejected\")\n",
    "else:\n",
    "    print(\"For condorcet, the null hypothesis cannot be rejected\")"
   ]
  },
  {
   "cell_type": "code",
   "execution_count": 12,
   "metadata": {},
   "outputs": [
    {
     "name": "stdout",
     "output_type": "stream",
     "text": [
      "-18.588808643061522 5.670371370822004e-56\n",
      "SIGNIFICANT\n"
     ]
    }
   ],
   "source": [
    "import scipy.stats as st\n",
    "\n",
    "[t, prob] = st.ttest_ind(all_weights_ub_stds, all_condorcet_stds)\n",
    "print(t, prob)\n",
    "if prob < 0.05:\n",
    "    print(\"SIGNIFICANT\")\n",
    "else:\n",
    "    print(\"INSIGNIFICANT\")"
   ]
  },
  {
   "cell_type": "code",
   "execution_count": 13,
   "metadata": {},
   "outputs": [
    {
     "name": "stdout",
     "output_type": "stream",
     "text": [
      "0.6\n",
      "0.14\n"
     ]
    }
   ],
   "source": [
    "print(np.round(all_weights_ub_stds.mean(), 2))\n",
    "print(np.round(all_weights_ub_stds.std(), 2))"
   ]
  },
  {
   "cell_type": "code",
   "execution_count": 14,
   "metadata": {},
   "outputs": [
    {
     "name": "stdout",
     "output_type": "stream",
     "text": [
      "1.02\n",
      "0.28\n"
     ]
    }
   ],
   "source": [
    "print(np.round(all_condorcet_stds.mean(), 2))\n",
    "print(np.round(all_condorcet_stds.std(), 2))"
   ]
  },
  {
   "cell_type": "code",
   "execution_count": 15,
   "metadata": {},
   "outputs": [
    {
     "name": "stdout",
     "output_type": "stream",
     "text": [
      "1.62\n",
      "0.12\n"
     ]
    }
   ],
   "source": [
    "print(np.round( (3. - all_weights_ub_means).mean(), 2))\n",
    "print(np.round((3. - all_weights_ub_means).std(), 2))"
   ]
  },
  {
   "cell_type": "code",
   "execution_count": 16,
   "metadata": {},
   "outputs": [
    {
     "name": "stdout",
     "output_type": "stream",
     "text": [
      "1.45\n",
      "0.18\n"
     ]
    }
   ],
   "source": [
    "print(np.round( (3. - all_condorcet_means).mean(), 2))\n",
    "print(np.round((3. - all_condorcet_means).std(), 2))"
   ]
  },
  {
   "cell_type": "code",
   "execution_count": null,
   "metadata": {},
   "outputs": [],
   "source": []
  }
 ],
 "metadata": {
  "kernelspec": {
   "display_name": "Python 3",
   "language": "python",
   "name": "python3"
  },
  "language_info": {
   "codemirror_mode": {
    "name": "ipython",
    "version": 3
   },
   "file_extension": ".py",
   "mimetype": "text/x-python",
   "name": "python",
   "nbconvert_exporter": "python",
   "pygments_lexer": "ipython3",
   "version": "3.6.8"
  }
 },
 "nbformat": 4,
 "nbformat_minor": 2
}
