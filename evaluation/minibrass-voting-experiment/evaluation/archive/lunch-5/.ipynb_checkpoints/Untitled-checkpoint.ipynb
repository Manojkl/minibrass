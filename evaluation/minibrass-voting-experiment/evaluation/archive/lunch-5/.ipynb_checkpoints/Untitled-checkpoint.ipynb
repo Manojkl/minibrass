{
 "cells": [
  {
   "cell_type": "code",
   "execution_count": 1,
   "metadata": {},
   "outputs": [],
   "source": [
    "import numpy as np\n",
    "import pandas as pd"
   ]
  },
  {
   "cell_type": "code",
   "execution_count": 3,
   "metadata": {},
   "outputs": [
    {
     "name": "stdout",
     "output_type": "stream",
     "text": [
      "[0 0 0 1 0 1 0 0 0 0 0 1]\n",
      "[1 1 1 0 1 0 1 1 1 1 1 0]\n"
     ]
    }
   ],
   "source": [
    "amplifiers = np.genfromtxt('amplifiers_0.csv',delimiter=',').astype(int)\n",
    "print(amplifiers)\n",
    "normals = 1-amplifiers\n",
    "print(normals)"
   ]
  },
  {
   "cell_type": "code",
   "execution_count": null,
   "metadata": {},
   "outputs": [],
   "source": []
  },
  {
   "cell_type": "code",
   "execution_count": 5,
   "metadata": {},
   "outputs": [],
   "source": [
    "weights_biased = np.atleast_2d(np.genfromtxt('weights-biased_0.csv', delimiter=','))\n",
    "weights_unbiased = np.atleast_2d(np.genfromtxt('weights-unbiased_0.csv', delimiter=','))\n",
    "condorcet_biased = np.atleast_2d(np.genfromtxt('condorcet-biased_0.csv', delimiter=','))\n",
    "unanimity_biased = np.atleast_2d(np.genfromtxt('unanimity_0.csv', delimiter=','))"
   ]
  },
  {
   "cell_type": "code",
   "execution_count": 6,
   "metadata": {},
   "outputs": [
    {
     "name": "stdout",
     "output_type": "stream",
     "text": [
      "[5. 6. 5.]\n",
      "[4. 3. 4. 3. 3. 2. 1. 3. 4.]\n"
     ]
    }
   ],
   "source": [
    "print(weights_biased[:,amplifiers.astype(bool)].mean(axis=0))\n",
    "print(weights_biased[:,normals.astype(bool)].mean(axis=0))"
   ]
  },
  {
   "cell_type": "code",
   "execution_count": 92,
   "metadata": {},
   "outputs": [
    {
     "name": "stdout",
     "output_type": "stream",
     "text": [
      "[1. 1. 3. 1. 1. 1. 3.]\n",
      "[1. 1. 1. 1. 2. 1. 1. 1. 1. 1. 1.]\n"
     ]
    }
   ],
   "source": [
    "print(weights_unbiased[:,amplifiers.astype(bool)].mean(axis=0))\n",
    "print(weights_unbiased[:,normals.astype(bool)].mean(axis=0))"
   ]
  },
  {
   "cell_type": "code",
   "execution_count": 7,
   "metadata": {},
   "outputs": [
    {
     "name": "stdout",
     "output_type": "stream",
     "text": [
      "[3. 4. 3.]\n",
      "[4. 5. 6. 3. 5. 4. 3. 3. 4.]\n"
     ]
    }
   ],
   "source": [
    "print(condorcet_biased[:,amplifiers.astype(bool)].mean(axis=0))\n",
    "print(condorcet_biased[:,normals.astype(bool)].mean(axis=0))"
   ]
  },
  {
   "cell_type": "code",
   "execution_count": 8,
   "metadata": {},
   "outputs": [
    {
     "name": "stdout",
     "output_type": "stream",
     "text": [
      "[3. 4. 5.]\n",
      "[6. 3. 4. 5. 3. 2. 3. 3. 4.]\n"
     ]
    }
   ],
   "source": [
    "print(unanimity_biased[:,amplifiers.astype(bool)].mean(axis=0))\n",
    "print(unanimity_biased[:,normals.astype(bool)].mean(axis=0))"
   ]
  },
  {
   "cell_type": "code",
   "execution_count": 54,
   "metadata": {},
   "outputs": [
    {
     "name": "stdout",
     "output_type": "stream",
     "text": [
      "----- WEIGHTS \n",
      "----- amplifiers\n",
      "[[5. 6. 5.]]\n",
      "5.333333333333333\n",
      "----- non amplifiers\n",
      "[[4. 3. 4. 3. 3. 2. 1. 3. 4.]]\n",
      "3.0\n",
      "----- CONDORCET \n",
      "----- amplifiers\n",
      "[[3. 4. 3.]]\n",
      "3.3333333333333335\n",
      "----- non amplifiers\n",
      "[[4. 5. 6. 3. 5. 4. 3. 3. 4.]]\n",
      "4.111111111111111\n",
      "----- WEIGHTS \n",
      "----- amplifiers\n",
      "[[5. 4.]]\n",
      "4.5\n",
      "----- non amplifiers\n",
      "[[5. 2. 4. 1. 4. 2. 5. 3. 3. 5.]]\n",
      "3.4\n",
      "----- CONDORCET \n",
      "----- amplifiers\n",
      "[[3. 4.]]\n",
      "3.5\n",
      "----- non amplifiers\n",
      "[[3. 4. 6. 3. 4. 4. 3. 5. 3. 5.]]\n",
      "4.0\n",
      "----- WEIGHTS \n",
      "----- amplifiers\n",
      "[[5. 3. 4.]]\n",
      "4.0\n",
      "----- non amplifiers\n",
      "[[5. 2. 3. 2. 2. 2. 3. 4. 2.]]\n",
      "2.7777777777777777\n",
      "----- CONDORCET \n",
      "----- amplifiers\n",
      "[[3. 3. 4.]]\n",
      "3.3333333333333335\n",
      "----- non amplifiers\n",
      "[[1. 4. 3. 6. 4. 4. 3. 4. 4.]]\n",
      "3.6666666666666665\n",
      "----- WEIGHTS \n",
      "----- amplifiers\n",
      "[[4. 5. 4. 5. 4. 4.]]\n",
      "4.333333333333333\n",
      "----- non amplifiers\n",
      "[[2. 6. 4. 2. 3. 3.]]\n",
      "3.3333333333333335\n",
      "----- CONDORCET \n",
      "----- amplifiers\n",
      "[[6. 5. 2. 3. 4. 4.]]\n",
      "4.0\n",
      "----- non amplifiers\n",
      "[[4. 4. 6. 2. 5. 5.]]\n",
      "4.333333333333333\n",
      "----- WEIGHTS \n",
      "----- amplifiers\n",
      "[[4. 5. 5. 4. 5. 5.]]\n",
      "4.666666666666667\n",
      "----- non amplifiers\n",
      "[[3. 4. 1. 2. 4. 3.]]\n",
      "2.8333333333333335\n",
      "----- CONDORCET \n",
      "----- amplifiers\n",
      "[[4. 3. 5. 4. 3. 3.]]\n",
      "3.6666666666666665\n",
      "----- non amplifiers\n",
      "[[3. 4. 3. 2. 6. 5.]]\n",
      "3.8333333333333335\n"
     ]
    }
   ],
   "source": [
    "n_experiments = 5\n",
    "\n",
    "all_weights_ub_amp_means = []\n",
    "all_weights_ub_namp_means = []\n",
    "\n",
    "all_weights_amp_means = []\n",
    "all_weights_namp_means = []\n",
    "\n",
    "all_condorcet_amp_means = []\n",
    "all_condorcet_namp_means = []\n",
    "\n",
    "all_unanimity_amp_means = []\n",
    "all_unanimity_namp_means = []\n",
    "\n",
    "for i in range(n_experiments):\n",
    "    amplifiers = np.genfromtxt('amplifiers_%d.csv' %i ,delimiter=',').astype(int)\n",
    "    normals = 1-amplifiers\n",
    "    \n",
    "    weights_biased = np.atleast_2d(np.genfromtxt('weights-biased_%d.csv' % i, delimiter=','))\n",
    "    all_weights_means += [weights_biased.mean()]\n",
    "    print(\"----- WEIGHTS \")\n",
    "    print(\"----- amplifiers\")\n",
    "    print(weights_biased[:,amplifiers.astype(bool)])\n",
    "    print(weights_biased[:,amplifiers.astype(bool)].mean())\n",
    "    all_weights_amp_means += [weights_biased[:,amplifiers.astype(bool)].mean()]\n",
    "    \n",
    "    print(\"----- non amplifiers\")\n",
    "    print(weights_biased[:,normals.astype(bool)])\n",
    "    print(weights_biased[:,normals.astype(bool)].mean())\n",
    "    all_weights_namp_means += [weights_biased[:,normals.astype(bool)].mean()]\n",
    "    \n",
    "    weights_unbiased = np.atleast_2d(np.genfromtxt('weights-unbiased_%d.csv' % i, delimiter=','))\n",
    "    all_weights_ub_amp_means += [weights_unbiased[:,amplifiers.astype(bool)].mean()]\n",
    "    all_weights_ub_namp_means += [weights_unbiased[:,normals.astype(bool)].mean()]\n",
    "    \n",
    "    condorcet_biased = np.atleast_2d(np.genfromtxt('condorcet-biased_%d.csv' % i, delimiter=','))\n",
    "    print(\"----- CONDORCET \")\n",
    "    print(\"----- amplifiers\")\n",
    "    print(condorcet_biased[:,amplifiers.astype(bool)])\n",
    "    print(condorcet_biased[:,amplifiers.astype(bool)].mean())\n",
    "    all_condorcet_amp_means += [condorcet_biased[:,amplifiers.astype(bool)].mean()]\n",
    "    \n",
    "    print(\"----- non amplifiers\")\n",
    "    print(condorcet_biased[:,normals.astype(bool)])\n",
    "    print(condorcet_biased[:,normals.astype(bool)].mean())\n",
    "    all_condorcet_namp_means += [condorcet_biased[:,normals.astype(bool)].mean()]\n",
    "    \n",
    "    unanimity_biased = np.atleast_2d(np.genfromtxt('unanimity_%d.csv' % i, delimiter=','))\n",
    "    all_unanimity_amp_means += [unanimity_biased[:,amplifiers.astype(bool)].mean()]\n",
    "    all_unanimity_namp_means += [unanimity_biased[:,normals.astype(bool)].mean()]"
   ]
  },
  {
   "cell_type": "code",
   "execution_count": 35,
   "metadata": {},
   "outputs": [
    {
     "data": {
      "text/plain": [
       "[5.333333333333333, 4.5, 4.0, 4.333333333333333, 4.666666666666667]"
      ]
     },
     "execution_count": 35,
     "metadata": {},
     "output_type": "execute_result"
    }
   ],
   "source": [
    "all_weights_amp_means"
   ]
  },
  {
   "cell_type": "code",
   "execution_count": 36,
   "metadata": {},
   "outputs": [
    {
     "data": {
      "text/plain": [
       "[3.0, 3.4, 2.7777777777777777, 3.3333333333333335, 2.8333333333333335]"
      ]
     },
     "execution_count": 36,
     "metadata": {},
     "output_type": "execute_result"
    }
   ],
   "source": [
    "all_weights_namp_means"
   ]
  },
  {
   "cell_type": "code",
   "execution_count": 37,
   "metadata": {},
   "outputs": [
    {
     "data": {
      "text/plain": [
       "[3.3333333333333335, 3.5, 3.3333333333333335, 4.0, 3.6666666666666665]"
      ]
     },
     "execution_count": 37,
     "metadata": {},
     "output_type": "execute_result"
    }
   ],
   "source": [
    "all_condorcet_amp_means"
   ]
  },
  {
   "cell_type": "code",
   "execution_count": 38,
   "metadata": {},
   "outputs": [
    {
     "data": {
      "text/plain": [
       "[4.111111111111111,\n",
       " 4.0,\n",
       " 3.6666666666666665,\n",
       " 4.333333333333333,\n",
       " 3.8333333333333335]"
      ]
     },
     "execution_count": 38,
     "metadata": {},
     "output_type": "execute_result"
    }
   ],
   "source": [
    "all_condorcet_namp_means"
   ]
  },
  {
   "cell_type": "code",
   "execution_count": 40,
   "metadata": {},
   "outputs": [
    {
     "data": {
      "image/png": "[encoded data removed]",
      "text/plain": [
       "<Figure size 432x288 with 1 Axes>"
      ]
     },
     "metadata": {
      "needs_background": "light"
     },
     "output_type": "display_data"
    }
   ],
   "source": [
    "# Credit: Josh Hemann\n",
    "\n",
    "import numpy as np\n",
    "import matplotlib.pyplot as plt\n",
    "from matplotlib.ticker import MaxNLocator\n",
    "from collections import namedtuple\n",
    "\n",
    "\n",
    "n_groups = 5\n",
    "\n",
    "means_men = (20, 35, 30, 35, 27)\n",
    "std_men = (2, 3, 4, 1, 2)\n",
    "\n",
    "means_women = (25, 32, 34, 20, 25)\n",
    "std_women = (3, 5, 2, 3, 3)\n",
    "\n",
    "fig, ax = plt.subplots()\n",
    "\n",
    "index = np.arange(n_groups)\n",
    "bar_width = 0.35\n",
    "\n",
    "opacity = 0.4\n",
    "error_config = {'ecolor': '0.3'}\n",
    "\n",
    "rects1 = ax.bar(index, means_men, bar_width,\n",
    "                alpha=opacity, color='b',\n",
    "                yerr=std_men, error_kw=error_config,\n",
    "                label='Men')\n",
    "\n",
    "rects2 = ax.bar(index + bar_width, means_women, bar_width,\n",
    "                alpha=opacity, color='r',\n",
    "                yerr=std_women, error_kw=error_config,\n",
    "                label='Women')\n",
    "\n",
    "ax.set_xlabel('Group')\n",
    "ax.set_ylabel('Scores')\n",
    "ax.set_title('Scores by group and gender')\n",
    "ax.set_xticks(index + bar_width / 2)\n",
    "ax.set_xticklabels(('A', 'B', 'C', 'D', 'E'))\n",
    "ax.legend()\n",
    "\n",
    "fig.tight_layout()\n",
    "plt.show()\n"
   ]
  },
  {
   "cell_type": "code",
   "execution_count": 53,
   "metadata": {},
   "outputs": [
    {
     "data": {
      "image/png": "[encoded data removed]",
      "text/plain": [
       "<Figure size 432x288 with 1 Axes>"
      ]
     },
     "metadata": {
      "needs_background": "light"
     },
     "output_type": "display_data"
    }
   ],
   "source": [
    "# Credit: Josh Hemann\n",
    "\n",
    "import numpy as np\n",
    "import matplotlib.pyplot as plt\n",
    "from matplotlib.ticker import MaxNLocator\n",
    "from collections import namedtuple\n",
    "\n",
    "\n",
    "n_groups = 3 # weighted and condorcet \n",
    "# within each group amplifiers and non-amplifiers correspond to men and women\n",
    "\n",
    "all_weights_ub_amp_means = np.array(all_weights_ub_amp_means)\n",
    "all_weights_ub_namp_means = np.array(all_weights_ub_namp_means)\n",
    "\n",
    "all_weights_amp_means = np.array(all_weights_amp_means)\n",
    "all_weights_namp_means = np.array(all_weights_namp_means)\n",
    "\n",
    "all_condorcet_amp_means = np.array(all_condorcet_amp_means)\n",
    "all_condorcet_namp_means = np.array(all_condorcet_namp_means)\n",
    "\n",
    "all_unanimity_amp_means = np.array(all_unanimity_amp_means)\n",
    "all_unanimity_namp_means = np.array(all_unanimity_namp_means)\n",
    "    \n",
    "means_amp = (all_weights_ub_amp_means.mean(), all_weights_amp_means.mean(), all_condorcet_amp_means.mean(), all_unanimity_amp_means.mean())\n",
    "std_amp = (all_weights_ub_amp_means.std(), all_weights_amp_means.std(), all_condorcet_amp_means.std(), all_unanimity_amp_means.std())\n",
    "\n",
    "means_namp = (all_weights_ub_namp_means.mean(), all_weights_namp_means.mean(), all_condorcet_namp_means.mean(), all_unanimity_namp_means.mean())\n",
    "std_namp = (all_weights_ub_namp_means.std(), all_weights_namp_means.std(), all_condorcet_namp_means.std(), all_unanimity_namp_means.std())\n",
    "\n",
    "fig, ax = plt.subplots()\n",
    "\n",
    "index = np.arange(n_groups)\n",
    "bar_width = 0.35\n",
    "\n",
    "opacity = 0.4\n",
    "error_config = {'ecolor': '0.3'}\n",
    "\n",
    "rects1 = ax.bar(index, means_amp, bar_width,\n",
    "                alpha=opacity, color='b',\n",
    "                yerr=std_amp, error_kw=error_config,\n",
    "                label='Amplifiers')\n",
    "\n",
    "rects2 = ax.bar(index + bar_width, means_namp, bar_width,\n",
    "                alpha=opacity, color='r',\n",
    "                yerr=std_namp, error_kw=error_config,\n",
    "                label='Non-amplifiers')\n",
    "\n",
    "ax.set_xlabel('Group')\n",
    "ax.set_ylabel('Satisfaction degrees')\n",
    "ax.set_title('Satisfaction degrees by voting function and group')\n",
    "ax.set_xticks(index + bar_width / 2)\n",
    "ax.set_xticklabels(('WCSP Unbiased', 'WCSP Biased', 'Condorcet', 'D', 'E'))\n",
    "ax.legend()\n",
    "\n",
    "fig.tight_layout()\n",
    "plt.show()\n"
   ]
  },
  {
   "cell_type": "code",
   "execution_count": 42,
   "metadata": {},
   "outputs": [
    {
     "data": {
      "text/plain": [
       "[5.333333333333333, 4.5, 4.0, 4.333333333333333, 4.666666666666667]"
      ]
     },
     "execution_count": 42,
     "metadata": {},
     "output_type": "execute_result"
    }
   ],
   "source": [
    "all_weights_amp_means"
   ]
  },
  {
   "cell_type": "code",
   "execution_count": 49,
   "metadata": {},
   "outputs": [
    {
     "data": {
      "text/plain": [
       "(3.5666666666666673, 4.566666666666666, 3.5666666666666673)"
      ]
     },
     "execution_count": 49,
     "metadata": {},
     "output_type": "execute_result"
    }
   ],
   "source": [
    "means_amp"
   ]
  },
  {
   "cell_type": "code",
   "execution_count": 50,
   "metadata": {},
   "outputs": [
    {
     "data": {
      "text/plain": [
       "(3.922222222222222, 3.068888888888889, 3.9888888888888885)"
      ]
     },
     "execution_count": 50,
     "metadata": {},
     "output_type": "execute_result"
    }
   ],
   "source": [
    "means_namp"
   ]
  },
  {
   "cell_type": "code",
   "execution_count": null,
   "metadata": {},
   "outputs": [],
   "source": []
  }
 ],
 "metadata": {
  "kernelspec": {
   "display_name": "Python 3",
   "language": "python",
   "name": "python3"
  },
  "language_info": {
   "codemirror_mode": {
    "name": "ipython",
    "version": 3
   },
   "file_extension": ".py",
   "mimetype": "text/x-python",
   "name": "python",
   "nbconvert_exporter": "python",
   "pygments_lexer": "ipython3",
   "version": "3.6.2"
  }
 },
 "nbformat": 4,
 "nbformat_minor": 2
}
